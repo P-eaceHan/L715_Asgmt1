{
 "cells": [
  {
   "cell_type": "markdown",
   "metadata": {},
   "source": [
    "# Setup test data"
   ]
  },
  {
   "cell_type": "code",
   "execution_count": 3,
   "metadata": {},
   "outputs": [
    {
     "name": "stdout",
     "output_type": "stream",
     "text": [
      "Feature: ['mean radius' 'mean texture' 'mean perimeter' 'mean area'\n",
      " 'mean smoothness' 'mean compactness' 'mean concavity'\n",
      " 'mean concave points' 'mean symmetry' 'mean fractal dimension'\n",
      " 'radius error' 'texture error' 'perimeter error' 'area error'\n",
      " 'smoothness error' 'compactness error' 'concavity error'\n",
      " 'concave points error' 'symmetry error' 'fractal dimension error'\n",
      " 'worst radius' 'worst texture' 'worst perimeter' 'worst area'\n",
      " 'worst smoothness' 'worst compactness' 'worst concavity'\n",
      " 'worst concave points' 'worst symmetry' 'worst fractal dimension']\n",
      "\n",
      "Labels: ['malignant' 'benign']\n",
      "\n",
      "Shape: (569, 30)\n",
      "\n",
      "Top Five Entries: [[1.799e+01 1.038e+01 1.228e+02 1.001e+03 1.184e-01 2.776e-01 3.001e-01\n",
      "  1.471e-01 2.419e-01 7.871e-02 1.095e+00 9.053e-01 8.589e+00 1.534e+02\n",
      "  6.399e-03 4.904e-02 5.373e-02 1.587e-02 3.003e-02 6.193e-03 2.538e+01\n",
      "  1.733e+01 1.846e+02 2.019e+03 1.622e-01 6.656e-01 7.119e-01 2.654e-01\n",
      "  4.601e-01 1.189e-01]\n",
      " [2.057e+01 1.777e+01 1.329e+02 1.326e+03 8.474e-02 7.864e-02 8.690e-02\n",
      "  7.017e-02 1.812e-01 5.667e-02 5.435e-01 7.339e-01 3.398e+00 7.408e+01\n",
      "  5.225e-03 1.308e-02 1.860e-02 1.340e-02 1.389e-02 3.532e-03 2.499e+01\n",
      "  2.341e+01 1.588e+02 1.956e+03 1.238e-01 1.866e-01 2.416e-01 1.860e-01\n",
      "  2.750e-01 8.902e-02]\n",
      " [1.969e+01 2.125e+01 1.300e+02 1.203e+03 1.096e-01 1.599e-01 1.974e-01\n",
      "  1.279e-01 2.069e-01 5.999e-02 7.456e-01 7.869e-01 4.585e+00 9.403e+01\n",
      "  6.150e-03 4.006e-02 3.832e-02 2.058e-02 2.250e-02 4.571e-03 2.357e+01\n",
      "  2.553e+01 1.525e+02 1.709e+03 1.444e-01 4.245e-01 4.504e-01 2.430e-01\n",
      "  3.613e-01 8.758e-02]\n",
      " [1.142e+01 2.038e+01 7.758e+01 3.861e+02 1.425e-01 2.839e-01 2.414e-01\n",
      "  1.052e-01 2.597e-01 9.744e-02 4.956e-01 1.156e+00 3.445e+00 2.723e+01\n",
      "  9.110e-03 7.458e-02 5.661e-02 1.867e-02 5.963e-02 9.208e-03 1.491e+01\n",
      "  2.650e+01 9.887e+01 5.677e+02 2.098e-01 8.663e-01 6.869e-01 2.575e-01\n",
      "  6.638e-01 1.730e-01]\n",
      " [2.029e+01 1.434e+01 1.351e+02 1.297e+03 1.003e-01 1.328e-01 1.980e-01\n",
      "  1.043e-01 1.809e-01 5.883e-02 7.572e-01 7.813e-01 5.438e+00 9.444e+01\n",
      "  1.149e-02 2.461e-02 5.688e-02 1.885e-02 1.756e-02 5.115e-03 2.254e+01\n",
      "  1.667e+01 1.522e+02 1.575e+03 1.374e-01 2.050e-01 4.000e-01 1.625e-01\n",
      "  2.364e-01 7.678e-02]]\n",
      "1\n"
     ]
    }
   ],
   "source": [
    "# welcome to data city\n",
    "# X is the training vectors\n",
    "# y is the class label\n",
    "# change this cell later to accomodate data for the assignment\n",
    "\n",
    "from sklearn import datasets\n",
    "\n",
    "# load data\n",
    "cancer = datasets.load_breast_cancer()\n",
    "\n",
    "\n",
    "print(\"Feature:\", cancer.feature_names)\n",
    "print(\"\\nLabels:\", cancer.target_names)\n",
    "print(\"\\nShape:\", cancer.data.shape)\n",
    "print(\"\\nTop Five Entries:\", cancer.data[0:5])\n",
    "\n",
    "\n",
    "# import train_test_split function\n",
    "from sklearn.model_selection import train_test_split\n",
    "\n",
    "# split the dataset into training and test sets\n",
    "X_train, X_test, y_train, y_test = train_test_split(cancer.data, cancer.target, test_size=0.3,random_state=109) # 70% training and 30% test\n",
    "\n",
    "print(y_test[0])"
   ]
  },
  {
   "cell_type": "markdown",
   "metadata": {},
   "source": [
    "# Setup Real Data"
   ]
  },
  {
   "cell_type": "code",
   "execution_count": 40,
   "metadata": {},
   "outputs": [
    {
     "name": "stdout",
     "output_type": "stream",
     "text": [
      "['with', 'their', 'chained', 'to', 'with%their', 'their%chained', 'chained%to', 'under', 'his', 'and', 'come', 'under%his', 'his%and', 'and%come', 'raised', 'his', 'involuntarily', ',', 'raised%his', 'his%involuntarily', 'involuntarily%,', 'under', 'your', 'and', 'wishing', 'under%your', 'your%and', 'and%wishing', 'searching', 'for', '.', 'This', 'searching%for', 'for%.', '.%This', 'to', 'the', 'of', 'the', 'to%the', 'the%of', 'of%the', 'on', 'her', 'swaying', 'heavily', 'on%her', 'her%swaying', 'swaying%heavily', 'by', 'the', '.', 'Mr', 'by%the', 'the%.', '.%Mr', 'Hjerson', \"'s\", '.', 'I', \"Hjerson%'s\", \"'s%.\", '.%I', 'crossed', 'his', 'as', 'it', 'crossed%his', 'his%as', 'as%it', 'pinched', 'my', '.', 'That', 'pinched%my', 'my%.', '.%That', 'couples', ',', 'in', '<head>arm</head>', ',', 'doing', 'couples%,', ',%in', 'in%<head>arm</head>', '<head>arm</head>%,', ',%doing', 'before', 'my', 'drop', 'off', 'before%my', 'my%drop', 'drop%off', 'as', 'throttle', 'paralysis', 'on', 'as%throttle', 'throttle%paralysis', 'paralysis%on', 'in', 'various', 'of', 'the', 'in%various', 'various%of', 'of%the', '(', 'an', 'of', 'the', '(%an', 'an%of', 'of%the', 'other', 'main', 'of', 'executive', 'other%main', 'main%of', 'of%executive', '-', 'military', 'of', 'government', '-%military', 'military%of', 'of%government', 'bruised', ',', 'open', ',', 'bruised%,', ',%open', 'open%,', 'put', 'her', 'around', 'her', 'put%her', 'her%around', 'around%her', 'in', 'her', '.', 'Sleep', 'in%her', 'her%.', '.%Sleep', 'in', 'my', ',', 'your', 'in%my', 'my%,', ',%your', 'But', 'my', 'round', 'you', 'But%my', 'my%round', 'round%you', ',', 'your', 'holding', 'me', ',%your', 'your%holding', 'holding%me', 'in', 'her', '.', 'And', 'in%her', 'her%.', '.%And', 'in', 'your', ',', 'then', 'in%your', 'your%,', ',%then', 'wrapping', 'her', 'around', 'Lucy', 'wrapping%her', 'her%around', 'around%Lucy', 'wrap', 'both', 'round', 'Lucy', 'wrap%both', 'both%round', 'round%Lucy', 'into', 'her', 'and', 'Jay', 'into%her', 'her%and', 'and%Jay', \"'s\", 'slender', 'round', 'her', \"'s%slender\", 'slender%round', 'round%her', 'in', 'my', '.', 'One', 'in%my', 'my%.', '.%One', 'the', 'heavy', 'rest', 'around', 'the%heavy', 'heavy%rest', 'rest%around', 'extends', 'his', 'with', 'the', 'extends%his', 'his%with', 'with%the', 'Economy', 'of', 'movement', 'is', 'Economy%of', 'of%movement', 'movement%is', 'your', 'blocking', 'so', 'you', 'your%blocking', 'blocking%so', 'so%you', 'his', 'extended', 'with', 'your', 'his%extended', 'extended%with', 'with%your', 'front', 'barring', 'or', 'groin', 'front%barring', 'barring%or', 'or%groin', 'the', 'attacking', '.', 'Do', 'the%attacking', 'attacking%.', '.%Do', 'your', 'blocking', 'fully', 'as', 'your%blocking', 'blocking%fully', 'fully%as', 'on', 'his', 'with', 'rising', 'on%his', 'his%with', 'with%rising', 'merely', 'an', 'movement', ',', 'merely%an', 'an%movement', 'movement%,', 'by', 'the', 'action', 'itself', 'by%the', 'the%action', 'action%itself', 'of', 'the', 'action', '.', 'of%the', 'the%action', 'action%.', '-', 'extended', 'is', 'sure', '-%extended', 'extended%is', 'is%sure', 'of', 'pumping', 'and', 'legs', 'of%pumping', 'pumping%and', 'and%legs', 'legs', 'and', 'blown', 'off', 'legs%and', 'and%blown', 'blown%off', 'took', 'his', ',', 'cleared', 'took%his', 'his%,', ',%cleared', 'under', 'his', ',', 'the', 'under%his', 'his%,', ',%the', ',', 'his', 'firmly', 'held', ',%his', 'his%firmly', 'firmly%held', 'of', 'his', 'and', 'he', 'of%his', 'his%and', 'and%he', 'up', 'their', 'with', 'fists', 'up%their', 'their%with', 'with%fists', 'on', 'their', '.', 'All', 'on%their', 'their%.', '.%All', 'Hundreds', 'of', 'were', 'standing', 'Hundreds%of', 'of%were', 'were%standing', 'Hundreds', 'of', 'were', 'standing', 'Hundreds%of', 'of%were', 'were%standing', 'twisting', 'his', 'behind', 'him.', 'twisting%his', 'his%behind', 'behind%him.', 'took', 'his', 'and', 'told', 'took%his', 'his%and', 'and%told', 'in', 'the', '.', 'No', 'in%the', 'the%.', '.%No', ',', 'their', 'pulled', 'down', ',%their', 'their%pulled', 'pulled%down', 'had', 'her', 'round', 'Donald', 'had%her', 'her%round', 'round%Donald', 'had', 'his', 'round', 'his', 'had%his', 'his%round', 'round%his', 'of', 'his', '.', 'Jean', 'of%his', 'his%.', '.%Jean', 'on', 'their', ';', 'they', 'on%their', 'their%;', ';%they', 'and', 'strong', 'gone', '?', 'and%strong', 'strong%gone', 'gone%?', 'raised', 'his', 'or', 'his', 'raised%his', 'his%or', 'or%his', 'lifted', 'an', 'now', 'and', 'lifted%an', 'an%now', 'now%and', 'up', 'in', 'against', 'their', 'up%in', 'in%against', 'against%their', 'texture', ',', 'pulling', 'on', 'texture%,', ',%pulling', 'pulling%on', 'out', 'her', 'and', 'spread', 'out%her', 'her%and', 'and%spread', ',', 'her', 'curved', 'closely', ',%her', 'her%curved', 'curved%closely', 'under', 'her', ',', 'old', 'under%her', 'her%,', ',%old', 'with', 'her', 'round', 'him', 'with%her', 'her%round', 'round%him', 'by', 'the', '.', 'Then', 'by%the', 'the%.', '.%Then', 'across', 'his', ',', 'Donald', 'across%his', 'his%,', ',%Donald', 'though', 'presenting', 'in', 'some', 'though%presenting', 'presenting%in', 'in%some', 'into', 'her', 'without', 'falling', 'into%her', 'her%without', 'without%falling', 'into', 'my', '(', 'as', 'into%my', 'my%(', '(%as', 'under', 'her', '.', 'She', 'under%her', 'her%.', '.%She', 'an', 'upholstered', 'protruding', 'there', 'an%upholstered', 'upholstered%protruding', 'protruding%there', 'massage', 'his', 'or', 'the', 'massage%his', 'his%or', 'or%the', 'on', 'the', 'of', 'the', 'on%the', 'the%of', 'of%the', 'think', 'my', 'will', 'be', 'think%my', 'my%will', 'will%be', ',', 'his', 'was', 'strapped', ',%his', 'his%was', 'was%strapped', 'my', 'left', 'was', 'trapped', 'my%left', 'left%was', 'was%trapped', 'it', 'at', \"'s\", 'length', 'it%at', \"at%'s\", \"'s%length\", 'on', 'her', 'and', 'she', 'on%her', 'her%and', 'and%she', 'had', 'their', 'around', 'each', 'had%their', 'their%around', 'around%each', 'Rodney', \"'s\", 'round', 'her', \"Rodney%'s\", \"'s%round\", 'round%her', 'on', 'its', '.', 'He', 'on%its', 'its%.', '.%He', '-', 'warmed', '.', 'The', '-%warmed', 'warmed%.', '.%The', 'hearthrug', 'of', 'and', 'legs', 'hearthrug%of', 'of%and', 'and%legs', 'raise', 'my', ',', 'my', 'raise%my', 'my%,', ',%my', 'puts', 'her', 'gingerly', 'and', 'puts%her', 'her%gingerly', 'gingerly%and', 'folded', 'her', 'round', 'him', 'folded%her', 'her%round', 'round%him', 'removing', 'his', 'from', 'her', 'removing%his', 'his%from', 'from%her', 'put', 'his', 'round', 'her', 'put%his', 'his%round', 'round%her', 'Steve', \"'s\", '.', 'That', \"Steve%'s\", \"'s%.\", '.%That', 'under', 'his', 'A', 'wand', 'under%his', 'his%A', 'A%wand', 'have', 'your', 'round', 'me', 'have%your', 'your%round', 'round%me', 'put', 'his', 'round', 'me', 'put%his', 'his%round', 'round%me', 'taking', 'her', '.', 'They', 'taking%her', 'her%.', '.%They', 'to', 'the', 'helping', 'to', 'to%the', 'the%helping', 'helping%to', 'Using', 'the', 'alone', 'is', 'Using%the', 'the%alone', 'alone%is', 'with', 'your', 'above', 'your', 'with%your', 'your%above', 'above%your', 'with', 'your', 'by', 'your', 'with%your', 'your%by', 'by%your', 'and', 'your', 'in', 'a', 'and%your', 'your%in', 'in%a', 'and', 'the', 'straight', 'up.', 'and%the', 'the%straight', 'straight%up.', 'until', 'the', 'are', 'straight', 'until%the', 'the%are', 'are%straight', 'raise', 'your', 'out', 'to', 'raise%your', 'your%out', 'out%to', 'with', 'the', 'bent', 'and', 'with%the', 'the%bent', 'bent%and', 'until', 'the', 'are', 'straight', 'until%the', 'the%are', 'are%straight', 'raise', 'the', 'apart', 'until', 'raise%the', 'the%apart', 'apart%until', 'until', 'the', 'are', 'straight', 'until%the', 'the%are', 'are%straight', 'with', 'your', 'straight', 'down.', 'with%your', 'your%straight', 'straight%down.', ',', 'the', 'are', 'hanging', ',%the', 'the%are', 'are%hanging', 'the', 'upper', 'horizontal', ',', 'the%upper', 'upper%horizontal', 'horizontal%,', 'with', 'your', 'holding', 'the', 'with%your', 'your%holding', 'holding%the', 'with', 'the', 'straight', 'down', 'with%the', 'the%straight', 'straight%down', 'with', 'your', 'out', 'straight', 'with%your', 'your%out', 'out%straight', 'until', 'your', 'are', 'straightened', 'until%your', 'your%are', 'are%straightened', 'bench', 'with', 'out', 'straight', 'bench%with', 'with%out', 'out%straight', 'keeping', 'the', 'straight', 'at', 'keeping%the', 'the%straight', 'straight%at', 'until', 'your', 'are', 'straight', 'until%your', 'your%are', 'are%straight', 'One', '-', 'dumb', '-', 'One%-', '-%dumb', 'dumb%-', 'on', 'one', 'and', 'then', 'on%one', 'one%and', 'and%then', 'One', '-', 'dumb', '-', 'One%-', '-%dumb', 'dumb%-', 'bend', 'your', ',', 'lowering', 'bend%your', 'your%,', ',%lowering', 'until', 'the', 'are', 'locked', 'until%the', 'the%are', 'are%locked', 'until', 'the', 'are', 'locked', 'until%the', 'the%are', 'are%locked', 'adduct', 'the', '(', 'adduction', 'adduct%the', 'the%(', '(%adduction', 'the', 'upper', 'across', 'the', 'the%upper', 'upper%across', 'across%the', 'or', 'his', 'because', 'he', 'or%his', 'his%because', 'because%he', 'draw', 'the', 'to', 'the', 'draw%the', 'the%to', 'to%the', 'that', 'the', 'are', 'drawn', 'that%the', 'the%are', 'are%drawn', 'and', 'single', 'rowing', '.', 'and%single', 'single%rowing', 'rowing%.', 'the', 'upper', 'and', 'at', 'the%upper', 'upper%and', 'and%at', 'raise', 'the', 'to', 'the', 'raise%the', 'the%to', 'to%the', 'the', 'upper', 'while', 'the', 'the%upper', 'upper%while', 'while%the', '.', 'Upper', 'training', 'should', '.%Upper', 'Upper%training', 'training%should', 'bar', 'at', \"'s\", 'length', 'bar%at', \"at%'s\", \"'s%length\", 'overtrain', 'the', '.', 'More', 'overtrain%the', 'the%.', '.%More', 'correcting', 'poor', 'development', 'it', 'correcting%poor', 'poor%development', 'development%it', 'its', 'free', 'into', 'the', 'its%free', 'free%into', 'into%the', ',', 'on', 'and', 'legs', ',%on', 'on%and', 'and%legs', 'radial', '-', 'saw', 'is', 'radial%-', '-%saw', 'saw%is', 'radial', '-', 'for', 'clatters', 'radial%-', '-%for', 'for%clatters', 'by', 'the', 'and', 'steered', 'by%the', 'the%and', 'and%steered', 'benches', 'within', \"'s\", 'reach', 'benches%within', \"within%'s\", \"'s%reach\", 'that', 'the', 'never', 'cross', 'that%the', 'the%never', 'never%cross', 'as', 'the', 'flick', 'to', 'as%the', 'the%flick', 'flick%to', 'partner', \"'s\", 'as', 'she', \"partner%'s\", \"'s%as\", 'as%she', 'than', 'rounded', ',', 'they', 'than%rounded', 'rounded%,', ',%they', 'seizes', 'her', 'and', 'draws', 'seizes%her', 'her%and', 'and%draws', 'and', 'angled', ',', 'all', 'and%angled', 'angled%,', ',%all', 'synchronisation', 'of', 'and', 'legs', 'synchronisation%of', 'of%and', 'and%legs', 'of', 'her', '(', 'the', 'of%her', 'her%(', '(%the', 'passing', 'the', 'through', '1st', 'passing%the', 'the%through', 'through%1st', 'keep', 'the', 'rounded', 'except', 'keep%the', 'the%rounded', 'rounded%except', 'keep', 'the', 'rounded', 'except', 'keep%the', 'the%rounded', 'rounded%except', 'of', 'the', 'make', 'an', 'of%the', 'the%make', 'make%an', 'legs', 'or', ',', 'or', 'legs%or', 'or%,', ',%or', 'and', 'veiled', 'have', 'hidden', 'and%veiled', 'veiled%have', 'have%hidden', 'body', 'and', 'of', 'the', 'body%and', 'and%of', 'of%the', 'body', ',', 'and', 'head', 'body%,', ',%and', 'and%head', 'in', 'the', 'of', 'the', 'in%the', 'the%of', 'of%the', 'of', 'both', 'and', 'feet', 'of%both', 'both%and', 'and%feet', 'arched', ',', 'in', 'closed', 'arched%,', ',%in', 'in%closed', 'as', 'the', 'straighten', 'into', 'as%the', 'the%straighten', 'straighten%into', 'hands', 'and', 'drew', 'attention', 'hands%and', 'and%drew', 'drew%attention', 'on', 'the', 'of', 'her', 'on%the', 'the%of', 'of%her', 'out', ',', 'linked', 'to', 'out%,', ',%linked', 'linked%to', 'her', 'expressive', 'and', 'face', 'her%expressive', 'expressive%and', 'and%face', 'of', 'the', '.', 'Ashton', 'of%the', 'the%.', '.%Ashton', 'raised', 'his', 'widely', 'only', 'raised%his', 'his%widely', 'widely%only', 'other', \"'s\", 'all', 'the', \"other%'s\", \"'s%all\", 'all%the', 'body', ',', 'and', 'head', 'body%,', ',%and', 'and%head', 'in', 'his', '.', 'It', 'in%his', 'his%.', '.%It', 'Romeo', \"'s\", 'are', 'in', \"Romeo%'s\", \"'s%are\", 'are%in', 'body', 'and', 'should', 'move', 'body%and', 'and%should', 'should%move', 'body', 'and', 'rise', 'upwards', 'body%and', 'and%rise', 'rise%upwards', 'body', 'and', 'in', 'some', 'body%and', 'and%in', 'in%some', '.', 'The', 'usually', 'change', '.%The', 'The%usually', 'usually%change', ',', 'the', 'will', 'be', ',%the', 'the%will', 'will%be', 'front', 'the', 'will', 'change', 'front%the', 'the%will', 'will%change', 'but', 'their', 'and', 'legs', 'but%their', 'their%and', 'and%legs', 'hands', ',', ',', 'legs', 'hands%,', ',%,', ',%legs', 'your', 'right', \"'s\", 'for', 'your%right', \"right%'s\", \"'s%for\", 'with', 'open', 'the', 'rebirth', 'with%open', 'open%the', 'the%rebirth', 'from', 'the', '4', 'A', 'from%the', 'the%4', '4%A', 'and', 'an', '?', 'A', 'and%an', 'an%?', '?%A', 'on', 'his', '.', 'My', 'on%his', 'his%.', '.%My', 'had', 'both', 'in', 'plaster', 'had%both', 'both%in', 'in%plaster', 'forth', 'His', 'to', 'us', 'forth%His', 'His%to', 'to%us', 'up', 'his', 'and', 'went', 'up%his', 'his%and', 'and%went', 'flung', 'her', 'round', 'my', 'flung%her', 'her%round', 'round%my', 'in', 'my', 'when', 'you', 'in%my', 'my%when', 'when%you', 'a', 'robot', 'to', 'interpret', 'a%robot', 'robot%to', 'to%interpret', 'allows', 'the', 'to', 'be', 'allows%the', 'the%to', 'to%be', 'and', 'lower', 'values', 'respectively', 'and%lower', 'lower%values', 'values%respectively', 'in', 'my', ',', 'dead', 'in%my', 'my%,', ',%dead', 'in', 'the', 'of', 'her', 'in%the', 'the%of', 'of%her', 'valorous', 'in', ',', 'Disinterested', 'valorous%in', 'in%,', ',%Disinterested', 'conducted', 'at', \"'s\", 'length', 'conducted%at', \"at%'s\", \"'s%length\", 'video', 'distribution', ',', 'Virgin', 'video%distribution', 'distribution%,', ',%Virgin', 'Tones', 'up', ',', 'shoulders', 'Tones%up', 'up%,', ',%shoulders', '-', 'muscular', ',', 'square', '-%muscular', 'muscular%,', ',%square', 'to', 'supply', 'to', 'President', 'to%supply', 'supply%to', 'to%President', 'the', 'music', 'which', ',', 'the%music', 'music%which', 'which%,', 'seized', 'his', 'and', 'legs', 'seized%his', 'his%and', 'and%legs', 'with', 'their', 'on', 'each', 'with%their', 'their%on', 'on%each', 'of', 'an', ',', 'for', 'of%an', 'an%,', ',%for', 'neither', 'her', 'nor', 'legs', 'neither%her', 'her%nor', 'nor%legs', 'up', 'an', 'conversion', 'agency', 'up%an', 'an%conversion', 'conversion%agency', 'with', 'open', ',', 'or', 'with%open', 'open%,', ',%or', 'or', 'any', '.', 'Roy', 'or%any', 'any%.', '.%Roy', 'secure', 'verifiable', 'reductions', '.', 'secure%verifiable', 'verifiable%reductions', 'reductions%.', 'money', 'and', '.', 'The', 'money%and', 'and%.', '.%The', 'Navy', 'delivered', 'to', 'the', 'Navy%delivered', 'delivered%to', 'to%the', 'call', 'to', 'against', 'counter', 'call%to', 'to%against', 'against%counter', 'Georgina', \"'s\", ',', 'were', \"Georgina%'s\", \"'s%,\", ',%were', 'baby', 'in', ',', 'faced', 'baby%in', 'in%,', ',%faced', 'feat', 'of', ',', 'but', 'feat%of', 'of%,', ',%but', 'Pizarro', \"'s\", '.', 'None', \"Pizarro%'s\", \"'s%.\", '.%None', 'buying', 'American', 'firm', 'International', 'buying%American', 'American%firm', 'firm%International', 'into', 'the', 'of', 'those', 'into%the', 'the%of', 'of%those', 'a', 'French', 'dealer', '.', 'a%French', 'French%dealer', 'dealer%.', 'supply', 'of', 'captured', 'by', 'supply%of', 'of%captured', 'captured%by', 'turned', 'to', 'dealing', 'in', 'turned%to', 'to%dealing', 'dealing%in', 'of', 'an', 'dealer', 'and', 'of%an', 'an%dealer', 'dealer%and', 'in', 'selling', ',', 'makes', 'in%selling', 'selling%,', ',%makes', 'Stewart', \"'s\", 'By', 'DEREK', \"Stewart%'s\", \"'s%By\", 'By%DEREK', 'used', 'his', 'to', 'restrain', 'used%his', 'his%to', 'to%restrain', 'smiles', 'and', 'flung', 'out', 'smiles%and', 'and%flung', 'flung%out', 'in', 'their', ',', 'but', 'in%their', 'their%,', ',%but', 'physical', 'security', 'has', 'now', 'physical%security', 'security%has', 'has%now', 'owned', 'US', ',', 'lost', 'owned%US', 'US%,', ',%lost', 'and', 'political', 'of', 'the', 'and%political', 'political%of', 'of%the', 'down', 'their', 'and', 'form', 'down%their', 'their%and', 'and%form', 'of', 'strong', 'diplomacy', 'and', 'of%strong', 'strong%diplomacy', 'diplomacy%and', 'call', 'to', '.', 'Some', 'call%to', 'to%.', '.%Some', 'of', 'strong', 'to', 'manipulate', 'of%strong', 'strong%to', 'to%manipulate', 'SOME', 'GENTLE', '-', 'twisting', 'SOME%GENTLE', 'GENTLE%-', '-%twisting', 'rate', 'his', 'whirled', 'over', 'rate%his', 'his%whirled', 'whirled%over', 'crowd', 'bearing', 'was', 'one', 'crowd%bearing', 'bearing%was', 'was%one', 'the', 'British', ',', 'Vauxhall', 'the%British', 'British%,', ',%Vauxhall', 'the', 'legal', 'of', 'ETA', 'the%legal', 'legal%of', 'of%ETA', 'the', 'stockbroking', 'of', 'Barclays', 'the%stockbroking', 'stockbroking%of', 'of%Barclays', 'the', 'stockbroking', 'of', 'National', 'the%stockbroking', 'stockbroking%of', 'of%National', '.', 'Its', 'supplies', 'from', '.%Its', 'Its%supplies', 'supplies%from', 'continue', 'sending', 'until', 'the', 'continue%sending', 'sending%until', 'until%the', 'uniforms', ',', ',', 'a', 'uniforms%,', ',%,', ',%a', 'other', \"'s\", ',', 'many', \"other%'s\", \"'s%,\", ',%many', 'waving', 'his', 'and', 'muttering', 'waving%his', 'his%and', 'and%muttering', 'the', 'phantom', 'contracts', 'which', 'the%phantom', 'phantom%contracts', 'contracts%which', 'the', 'stockbroking', 'of', 'Barclays', 'the%stockbroking', 'stockbroking%of', 'of%Barclays', 'the', 'phantom', 'contracts', 'that', 'the%phantom', 'phantom%contracts', 'contracts%that', 'Semtex', ',', 'and', 'other', 'Semtex%,', ',%and', 'and%other', 'the', 'political', 'of', 'the', 'the%political', 'political%of', 'of%the', 'management', 'consultancy', '.', 'I', 'management%consultancy', 'consultancy%.', '.%I', 'and', 'illicit', 'traffickers', '.', 'and%illicit', 'illicit%traffickers', 'traffickers%.', 'left', '-', 'spinners', ',', 'left%-', '-%spinners', 'spinners%,', 'father', \"'s\", 'enshrines', 'the', \"father%'s\", \"'s%enshrines\", 'enshrines%the', 'investment', 'management', 'of', 'National', 'investment%management', 'management%of', 'of%National', 'investment', 'management', ',', 'Lazards', 'investment%management', 'management%,', ',%Lazards', ',', 'wine', 'of', 'the', ',%wine', 'wine%of', 'of%the', 'to', 'get', 'and', 'ammunition', 'to%get', 'get%and', 'and%ammunition', 'money', 'for', '.', 'Asked', 'money%for', 'for%.', '.%Asked', 'an', 'IRA', 'cache', 'discovered', 'an%IRA', 'IRA%cache', 'cache%discovered', 'pairs', 'of', 'will', 'churn', 'pairs%of', 'of%will', 'will%churn', 'to', 'carry', ',', 'from', 'to%carry', 'carry%,', ',%from', 'who', 'lost', 'and', 'legs', 'who%lost', 'lost%and', 'and%legs', 'with', 'one', 'up', 'a', 'with%one', 'one%up', 'up%a', 'losing', 'one', 'or', 'one', 'losing%one', 'one%or', 'or%one', 'lost', 'an', 'or', 'leg', 'lost%an', 'an%or', 'or%leg', ',', 'his', 'by', 'his', ',%his', 'his%by', 'by%his', 'pulled', 'my', 'out', 'there', 'pulled%my', 'my%out', 'out%there', 'hand', 'and', 'covered', 'with', 'hand%and', 'and%covered', 'covered%with']\n"
     ]
    }
   ],
   "source": [
    "import csv\n",
    "\n",
    "file_name = r\"train_data\\armN\\armN.tsv\"\n",
    "\n",
    "with open(file_name, 'r') as tsv:\n",
    "    data = tsv.readlines()\n",
    "\n",
    "vocab = []\n",
    "for line in data:\n",
    "    line = line.strip()\n",
    "    line = line.split('\\t')\n",
    "    vocab.extend(line)\n",
    "    \n",
    "print(vocab)"
   ]
  },
  {
   "cell_type": "markdown",
   "metadata": {},
   "source": [
    "# Convert String Data to Numerical for the Classifier"
   ]
  },
  {
   "cell_type": "code",
   "execution_count": 41,
   "metadata": {},
   "outputs": [
    {
     "name": "stdout",
     "output_type": "stream",
     "text": [
      "Example of tranformation to and from strings to numbers:\n",
      "\n",
      "Classes: [\"'s\" \"'s%,\" \"'s%.\" ... 'your%right' 'your%round' 'your%straight']\n",
      "Transformed Classes: [   0    1    2 ... 1036 1037 1038]\n",
      "Inverse Transform: [\"'s\" \"'s%,\" \"'s%.\" ... 'your%right' 'your%round' 'your%straight']\n"
     ]
    },
    {
     "name": "stderr",
     "output_type": "stream",
     "text": [
      "C:\\Users\\evrgr\\Anaconda3\\lib\\site-packages\\sklearn\\preprocessing\\label.py:151: DeprecationWarning: The truth value of an empty array is ambiguous. Returning False, but in future this will result in an error. Use `array.size > 0` to check that an array is not empty.\n",
      "  if diff:\n"
     ]
    }
   ],
   "source": [
    "from sklearn import preprocessing\n",
    "\n",
    "# load label encoder and test on sample string data\n",
    "le = preprocessing.LabelEncoder()\n",
    "string_data = vocab\n",
    "le.fit(string_data)\n",
    "transformed_data = le.transform(le.classes_)\n",
    "\n",
    "# show processing results in the console\n",
    "print(\"Example of tranformation to and from strings to numbers:\\n\")\n",
    "print(\"Classes:\", le.classes_)\n",
    "print(\"Transformed Classes:\", transformed_data)\n",
    "print(\"Inverse Transform:\", le.inverse_transform(transformed_data))"
   ]
  },
  {
   "cell_type": "markdown",
   "metadata": {},
   "source": [
    "# Train Classifiers"
   ]
  },
  {
   "cell_type": "code",
   "execution_count": 3,
   "metadata": {},
   "outputs": [],
   "source": [
    "# let the training begin, its like insanity and p90x combined\n",
    "# this cell may need to be changed if the data formatting requires it.\n",
    "\n",
    "# import svm model\n",
    "from sklearn import svm\n",
    "\n",
    "# create an svm classifier\n",
    "clf = svm.SVC(kernel='linear') # linear kernel\n",
    "\n",
    "# train the model using the training sets\n",
    "clf.fit(X_train, y_train)\n",
    "\n",
    "# predict the response for the test dataset\n",
    "y_pred = clf.predict(X_test)"
   ]
  },
  {
   "cell_type": "markdown",
   "metadata": {},
   "source": [
    "# Evaluate Classifier"
   ]
  },
  {
   "cell_type": "code",
   "execution_count": 3,
   "metadata": {},
   "outputs": [
    {
     "name": "stdout",
     "output_type": "stream",
     "text": [
      "Accuracy: 0.9649122807017544\n"
     ]
    }
   ],
   "source": [
    "# Import scikit-learn metrics module for accuracy calculation\n",
    "from sklearn import metrics\n",
    "\n",
    "# Model Accuracy how often is the classifierr correct?\n",
    "print(\"Accuracy:\", metrics.accuracy_score(y_test, y_pred))"
   ]
  },
  {
   "cell_type": "code",
   "execution_count": 4,
   "metadata": {},
   "outputs": [
    {
     "name": "stdout",
     "output_type": "stream",
     "text": [
      "Precision: 0.9811320754716981\n",
      "Recall: 0.9629629629629629\n"
     ]
    }
   ],
   "source": [
    "# Model Precision: what percentage of positive tuples are labeled as such?\n",
    "print(\"Precision:\",metrics.precision_score(y_test, y_pred))\n",
    "\n",
    "# Model Recall: what percentage of positive tuples are labelled as such?\n",
    "print(\"Recall:\",metrics.recall_score(y_test, y_pred))"
   ]
  },
  {
   "cell_type": "code",
   "execution_count": null,
   "metadata": {},
   "outputs": [],
   "source": []
  }
 ],
 "metadata": {
  "kernelspec": {
   "display_name": "Python 3",
   "language": "python",
   "name": "python3"
  },
  "language_info": {
   "codemirror_mode": {
    "name": "ipython",
    "version": 3
   },
   "file_extension": ".py",
   "mimetype": "text/x-python",
   "name": "python",
   "nbconvert_exporter": "python",
   "pygments_lexer": "ipython3",
   "version": "3.6.5"
  }
 },
 "nbformat": 4,
 "nbformat_minor": 2
}
